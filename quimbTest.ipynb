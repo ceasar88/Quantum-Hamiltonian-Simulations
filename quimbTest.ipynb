{
 "cells": [
  {
   "cell_type": "code",
   "execution_count": 1,
   "metadata": {
    "scrolled": true
   },
   "outputs": [
    {
     "ename": "AttributeError",
     "evalue": "module 'quimb.tensor' has no attribute 'circ_qaoa'",
     "output_type": "error",
     "traceback": [
      "\u001b[0;31m---------------------------------------------------------------------------\u001b[0m",
      "\u001b[0;31mAttributeError\u001b[0m                            Traceback (most recent call last)",
      "\u001b[0;32m/tmp/ipykernel_55586/4118880137.py\u001b[0m in \u001b[0;36m<module>\u001b[0;34m\u001b[0m\n\u001b[1;32m     24\u001b[0m \u001b[0mgg\u001b[0m \u001b[0;34m=\u001b[0m \u001b[0;36m1\u001b[0m\u001b[0;34m\u001b[0m\u001b[0;34m\u001b[0m\u001b[0m\n\u001b[1;32m     25\u001b[0m \u001b[0mjj\u001b[0m \u001b[0;34m=\u001b[0m \u001b[0;36m1\u001b[0m\u001b[0;34m\u001b[0m\u001b[0;34m\u001b[0m\u001b[0m\n\u001b[0;32m---> 26\u001b[0;31m \u001b[0mcirc_ex\u001b[0m \u001b[0;34m=\u001b[0m \u001b[0mqtn\u001b[0m\u001b[0;34m.\u001b[0m\u001b[0mcirc_qaoa\u001b[0m\u001b[0;34m(\u001b[0m\u001b[0mterms\u001b[0m\u001b[0;34m,\u001b[0m \u001b[0mp\u001b[0m\u001b[0;34m,\u001b[0m \u001b[0mgammas\u001b[0m\u001b[0;34m,\u001b[0m \u001b[0mbetas\u001b[0m\u001b[0;34m,\u001b[0m\u001b[0mjj\u001b[0m\u001b[0;34m,\u001b[0m\u001b[0mgg\u001b[0m\u001b[0;34m)\u001b[0m\u001b[0;34m\u001b[0m\u001b[0;34m\u001b[0m\u001b[0m\n\u001b[0m\u001b[1;32m     27\u001b[0m \u001b[0mcirc_ex\u001b[0m\u001b[0;34m.\u001b[0m\u001b[0mpsi\u001b[0m\u001b[0;34m.\u001b[0m\u001b[0mdraw\u001b[0m\u001b[0;34m(\u001b[0m\u001b[0mcolor\u001b[0m\u001b[0;34m=\u001b[0m\u001b[0;34m[\u001b[0m\u001b[0;34m'PSI0'\u001b[0m\u001b[0;34m,\u001b[0m \u001b[0;34m'H'\u001b[0m\u001b[0;34m,\u001b[0m \u001b[0;34m'RZZ'\u001b[0m\u001b[0;34m,\u001b[0m \u001b[0;34m'RX'\u001b[0m\u001b[0;34m]\u001b[0m\u001b[0;34m)\u001b[0m\u001b[0;34m\u001b[0m\u001b[0;34m\u001b[0m\u001b[0m\n",
      "\u001b[0;31mAttributeError\u001b[0m: module 'quimb.tensor' has no attribute 'circ_qaoa'"
     ]
    }
   ],
   "source": [
    "import quimb as qu\n",
    "import quimb.tensor as qtn\n",
    "# import cotengra as ctg\n",
    "\n",
    "# opt = ctg.ReusableHyperOptimizer(\n",
    "#     reconf_opts={},\n",
    "#     max_repeats=16,\n",
    "#     parallel=True,\n",
    "#     # use the following for persistently cached paths\n",
    "#     # directory='ctg_path_cache',\n",
    "# )\n",
    "\n",
    "import networkx as nx\n",
    "\n",
    "reg = 3\n",
    "n = 18\n",
    "seed = 666\n",
    "G = nx.random_regular_graph(reg, n, seed=seed)\n",
    "\n",
    "terms = {(i, j): 1 for i, j in G.edges}\n",
    "p = 1\n",
    "gammas = qu.randn(p)\n",
    "betas = qu.randn(p)\n",
    "gg = 1\n",
    "jj = 1\n",
    "circ_ex = qtn.circ_qaoa(terms, p, gammas, betas,jj,gg)\n",
    "circ_ex.psi.draw(color=['PSI0', 'H', 'RZZ', 'RX'])"
   ]
  },
  {
   "cell_type": "code",
   "execution_count": null,
   "metadata": {},
   "outputs": [],
   "source": [
    "circ_ex.get_rdm_lightcone_simplified([0]).draw(color=['PSI0', 'H', 'RZZ', 'RX'], highlight_inds=['k0', 'b0'])"
   ]
  },
  {
   "cell_type": "code",
   "execution_count": null,
   "metadata": {},
   "outputs": [],
   "source": [
    "import tqdm\n",
    "\n",
    "localham = -jj * ( (qu.pauli('Z') & qu.pauli('Z')) + (gg * (qu.pauli('I') & qu.pauli('X'))))\n",
    "\n",
    "local_exp_rehs = [\n",
    "    circ_ex.local_expectation_rehearse(weight * localham, edge)\n",
    "    for edge, weight in tqdm.tqdm(list(terms.items()))\n",
    "]"
   ]
  },
  {
   "cell_type": "code",
   "execution_count": null,
   "metadata": {},
   "outputs": [],
   "source": [
    "import matplotlib.pyplot as plt\n",
    "\n",
    "fig, ax1 = plt.subplots()\n",
    "ax1.plot([rehs['W'] for rehs in local_exp_rehs], color='green')\n",
    "ax1.set_ylabel('contraction width, $W$, [log2]', color='green')\n",
    "ax1.tick_params(axis='y', labelcolor='green')\n",
    "\n",
    "ax2 = ax1.twinx()\n",
    "ax2.plot([rehs['C'] for rehs in local_exp_rehs], color='orange')\n",
    "ax2.set_ylabel('contraction cost, $C$, [log10]', color='orange')\n",
    "ax2.tick_params(axis='y', labelcolor='orange')"
   ]
  },
  {
   "cell_type": "code",
   "execution_count": null,
   "metadata": {},
   "outputs": [],
   "source": [
    "def energy(x):\n",
    "    p = 1\n",
    "    gammas = x[:p]\n",
    "    betas = x[p:]\n",
    "    circ = qtn.circ_qaoa(terms, p, gammas, betas,jj,gg)\n",
    "\n",
    "    localham = -jj * ( (qu.pauli('Z') & qu.pauli('Z')) + (gg * (qu.pauli('I') & qu.pauli('X'))))\n",
    "    ens = [\n",
    "        circ.local_expectation(weight * localham, edge)\n",
    "        for edge, weight in terms.items()\n",
    "    ]\n",
    "\n",
    "    return sum(ens).real\n",
    "\n",
    "from skopt import Optimizer\n",
    "from skopt.plots import plot_convergence, plot_objective\n",
    "eps = 1e-6\n",
    "bounds = (\n",
    "    [(0.0       , qu.pi )] * p +\n",
    "    [(0.0 , qu.pi)] * p\n",
    ")\n",
    "\n",
    "bopt = Optimizer(bounds)\n",
    "for i in tqdm.trange(100):\n",
    "    x = bopt.ask()\n",
    "    res = bopt.tell(x, energy(x))\n",
    "    \n",
    "plot_convergence(res);"
   ]
  },
  {
   "cell_type": "code",
   "execution_count": null,
   "metadata": {},
   "outputs": [],
   "source": []
  }
 ],
 "metadata": {
  "kernelspec": {
   "display_name": "Python 3 (ipykernel)",
   "language": "python",
   "name": "python3"
  },
  "language_info": {
   "codemirror_mode": {
    "name": "ipython",
    "version": 3
   },
   "file_extension": ".py",
   "mimetype": "text/x-python",
   "name": "python",
   "nbconvert_exporter": "python",
   "pygments_lexer": "ipython3",
   "version": "3.8.8"
  }
 },
 "nbformat": 4,
 "nbformat_minor": 4
}
